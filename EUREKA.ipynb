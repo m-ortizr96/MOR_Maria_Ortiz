{
 "cells": [
  {
   "cell_type": "code",
   "execution_count": 1,
   "metadata": {},
   "outputs": [
    {
     "data": {
      "text/plain": [
       "[[\"Gene_ID\", \"Gene_name\", \"mutant_phenotype\"], [\"AT1G69120\", \"ap1\", \"meristems replace first and second whorl\"], [\"AT4G36920\", \"ap2\", \"first whorl carpels, second whorl stamens\"], [\"AT3G54340\", \"ap3\", \"second whorl sepals, third whorl carpels\"], [\"AT1G30950\", \"ufo\", \"second whorl sepaloidy, third whorl missing or carpeloid\"], [\"AT5G20240\", \"pi\", \"second whorl sepals, third whorl carpels\"]]"
      ]
     },
     "execution_count": 1,
     "metadata": {},
     "output_type": "execute_result"
    }
   ],
   "source": [
    "require 'csv'\n",
    "#require 'rest-client'\n",
    "\n",
    "seed_stock = CSV.read('copy_seed_stock_data.tsv', {:col_sep => \"\\t\"})\n",
    "copy_seed_stock = seed_stock\n",
    "\n",
    "cross_data = CSV.read('copy_cross_data.tsv', {:col_sep => \"\\t\"})\n",
    "gene_info = CSV.read('copy_gene_information.tsv', {:col_sep => \"\\t\"})\n",
    "\n"
   ]
  },
  {
   "cell_type": "code",
   "execution_count": 18,
   "metadata": {},
   "outputs": [
    {
     "data": {
      "text/plain": [
       "#<SeedStock:0x000000000191a158 @Seed_Stock=\"B52\", @Mutant_Gene_ID=\"AT5G20240\", @Last_Planted=\"8/11/2012\", @Storage=\"cama16\", @Grams_Remaining=\"7\">"
      ]
     },
     "execution_count": 18,
     "metadata": {},
     "output_type": "execute_result"
    }
   ],
   "source": [
    "class SeedStock\n",
    "  attr_accessor :Seed_Stock\n",
    "  attr_accessor :Mutant_Gene_ID\n",
    "  attr_accessor :Last_Planted\n",
    "  attr_accessor :Storage\n",
    "  attr_accessor :Grams_Remaining\n",
    "  \n",
    "  def initialize (\n",
    "    stock = \"A000\",\n",
    "    gene_ID = \"AT0G000\",\n",
    "    last_Planted = \"00/00/0000\",\n",
    "    storage = \"empty\",\n",
    "    grams = \"00\")\n",
    "    \n",
    "    @Seed_Stock = stock\n",
    "    @Mutant_Gene_ID = gene_ID\n",
    "    @Last_Planted = last_Planted\n",
    "    @Storage = storage\n",
    "    @Grams_Remaining = grams\n",
    "  end\n",
    "  \n",
    "  def resta(value = 1)\n",
    "    @Last_Planted = Time.now.strftime(\"%d/%m/%Y\")\n",
    "    k = @Grams_Remaining.to_i\n",
    "    if k > 0\n",
    "      k = k - value\n",
    "      if k<=0\n",
    "        k=0\n",
    "        puts \"the amount is #{k} or less\"\n",
    "      end\n",
    "      k = k.to_s\n",
    "    end\n",
    "    @Grams_Remaining = k  \n",
    "  end\n",
    "   \n",
    "  \n",
    "end\n",
    "\n",
    "headers = []\n",
    "col11ss = []\n",
    "col12ss = []\n",
    "col13ss = []\n",
    "col14ss = []\n",
    "col15ss = []\n",
    "for i in 1..copy_seed_stock.length-1 do\n",
    "#    header = copy_seed_stock[i][0]\n",
    "  col1= copy_seed_stock[i][0]\n",
    "  col11ss << col1\n",
    "  col2= copy_seed_stock[i][1]\n",
    "  col12ss << col2\n",
    "  col3= copy_seed_stock[i][2]\n",
    "  col13ss << col3\n",
    "  col4= copy_seed_stock[i][3]\n",
    "  col14ss << col4\n",
    "  col5= copy_seed_stock[i][4]\n",
    "  col15ss << col5\n",
    "end\n",
    "\n",
    "\n",
    "row1ss= SeedStock.new(col11ss[0], col12ss[0], col13ss[0], col14ss[0], col15ss[0])\n",
    "row2ss= SeedStock.new(col11ss[1], col12ss[1], col13ss[1], col14ss[1], col15ss[1])\n",
    "row3ss= SeedStock.new(col11ss[2], col12ss[2], col13ss[2], col14ss[2], col15ss[2])\n",
    "row4ss= SeedStock.new(col11ss[3], col12ss[3], col13ss[3], col14ss[3], col15ss[3])\n",
    "row5ss= SeedStock.new(col11ss[4], col12ss[4], col13ss[4], col14ss[4], col15ss[4])\n",
    "\n"
   ]
  },
  {
   "cell_type": "code",
   "execution_count": null,
   "metadata": {},
   "outputs": [],
   "source": []
  },
  {
   "cell_type": "code",
   "execution_count": 5,
   "metadata": {},
   "outputs": [
    {
     "name": "stdout",
     "output_type": "stream",
     "text": [
      "21\n",
      "5\n",
      "15\n",
      "the amount is 0 or less\n",
      "0\n",
      "the amount is 0 or less\n",
      "0\n",
      "[[\"[\\\"Seed_Stock\\\", \\\"Mutant_Gene_ID\\\", \\\"Last_Planted\\\", \\\"Storage\\\", \\\"Grams_Remaining\\\"]\"], [\"A334\\tAT1G69120\\t16/10/2019\\tcama2\\t21\"], [\"A348\\tAT4G36920\\t16/10/2019\\tcama25\\t5\"], [\"B3334\\tAT3G54340\\t16/10/2019\\tcama18\\t15\"], [\"A51\\tAT1G30950\\t16/10/2019\\tcama25\\t0\"], [\"A51\\tAT5G20240\\t16/10/2019\\tcama16\\t0\"]]\n",
      "\"[\"\"Seed_Stock\"\", \"\"Mutant_Gene_ID\"\", \"\"Last_Planted\"\", \"\"Storage\"\", \"\"Grams_Remaining\"\"]\"\n",
      "A334\tAT1G69120\t16/10/2019\tcama2\t21\n",
      "A348\tAT4G36920\t16/10/2019\tcama25\t5\n",
      "B3334\tAT3G54340\t16/10/2019\tcama18\t15\n",
      "A51\tAT1G30950\t16/10/2019\tcama25\t0\n",
      "A51\tAT5G20240\t16/10/2019\tcama16\t0\n",
      "\n"
     ]
    },
    {
     "data": {
      "text/plain": [
       "266"
      ]
     },
     "execution_count": 5,
     "metadata": {},
     "output_type": "execute_result"
    }
   ],
   "source": [
    "# tabla_split = copy_seed_stock.to_s.split(\"\\t\")\n",
    "puts resta1 = row1ss.resta(7)\n",
    "puts resta2 = row2ss.resta(7)\n",
    "puts resta3 = row3ss.resta(7)\n",
    "puts resta4 = row4ss.resta(7)\n",
    "puts resta5 = row5ss.resta(7)\n",
    "\n",
    "header = copy_seed_stock[0].to_s.split(\"\\t\")\n",
    "\n",
    "\n",
    "fila1 = [row1ss.Seed_Stock + \"\\t\" + row1ss.Mutant_Gene_ID + \"\\t\" + row1ss.Last_Planted + \"\\t\" + row1ss.Storage + \"\\t\" + resta1]\n",
    "fila2 = [row2ss.Seed_Stock + \"\\t\" + row2ss.Mutant_Gene_ID + \"\\t\" + row2ss.Last_Planted + \"\\t\" + row2ss.Storage + \"\\t\" + resta2]\n",
    "fila3 = [row3ss.Seed_Stock + \"\\t\" + row3ss.Mutant_Gene_ID + \"\\t\" + row3ss.Last_Planted + \"\\t\" + row3ss.Storage + \"\\t\" + resta3]\n",
    "fila4 = [row4ss.Seed_Stock + \"\\t\" + row4ss.Mutant_Gene_ID + \"\\t\" + row4ss.Last_Planted + \"\\t\" + row4ss.Storage + \"\\t\" + resta4]\n",
    "fila5 = [row4ss.Seed_Stock + \"\\t\" + row5ss.Mutant_Gene_ID + \"\\t\" + row5ss.Last_Planted + \"\\t\" + row5ss.Storage + \"\\t\" + resta5]\n",
    "\n",
    "newtable = [header, fila1, fila2, fila3, fila4, fila5]\n",
    "puts newtable\n",
    "csv_str = newtable.inject([]) { |csv, row|  csv << CSV.generate_line(row) }.join(\"\")#####CUIDADO! EN CSV BIEN EN TSV MAL!!!!!!!\n",
    "puts csv_str\n",
    "File.open(\"ss.tsv\", \"w\", col_sep: \",\") {|f| f.write(newtable.inject([]) { |csv, row|  csv << CSV.generate_line(row) }.join(\"\"))}"
   ]
  },
  {
   "cell_type": "code",
   "execution_count": null,
   "metadata": {},
   "outputs": [],
   "source": [
    "for i in 0..cross_data.length do \n",
    "  puts cross_data[i]\n",
    "end\n",
    "puts \"\"\n",
    "\n",
    "for i in 0..gene_info.length-1 do \n",
    "  puts gene_info[i]\n",
    "end\n",
    "\n",
    "puts\"\"\n",
    "\n",
    "for i in 0..seed_stock.length-1 do\n",
    "  puts seed_stock[i]\n",
    "end"
   ]
  },
  {
   "cell_type": "code",
   "execution_count": 6,
   "metadata": {},
   "outputs": [
    {
     "data": {
      "text/plain": [
       ":initialize"
      ]
     },
     "execution_count": 6,
     "metadata": {},
     "output_type": "execute_result"
    }
   ],
   "source": [
    "class Gene\n",
    "  attr_accessor :gene_ID\n",
    "  attr_accessor :gene_name\n",
    "  attr_accessor :mutant_phenotype\n",
    "\n",
    "  \n",
    "  def initialize (\n",
    "    gene_id = \"000\",\n",
    "    gene_name = \"000\",\n",
    "    mutant_phenotype = \"000\")\n",
    "    \n",
    "    @gene_ID = gene_id\n",
    "    @gene_name = gene_name\n",
    "    @mutant_phenotype = mutant_phenotype\n",
    "  end\n",
    "end"
   ]
  },
  {
   "cell_type": "code",
   "execution_count": 8,
   "metadata": {},
   "outputs": [
    {
     "data": {
      "text/plain": [
       "#<Gene:0x00000000018ee8c8 @gene_ID=\"AT5G20240\", @gene_name=\"pi\", @mutant_phenotype=\"second whorl sepals, third whorl carpels\">"
      ]
     },
     "execution_count": 8,
     "metadata": {},
     "output_type": "execute_result"
    }
   ],
   "source": [
    " col11g = []\n",
    " col12g = []\n",
    " col13g = []\n",
    "for i in 1..gene_info.length-1 do\n",
    "#    header = copy_seed_stock[i][0]\n",
    "  col1= gene_info[i][0]\n",
    "  col11g << col1\n",
    "  col2= gene_info[i][1]\n",
    "  col12g << col2\n",
    "  col3= gene_info[i][2]\n",
    "  col13g << col3\n",
    "end\n",
    "\n",
    "\n",
    "row1= Gene.new(col11g[0], col12g[0], col13g[0])\n",
    "row2= Gene.new(col11g[1], col12g[1], col13g[1])\n",
    "row3= Gene.new(col11g[2], col12g[2], col13g[2])\n",
    "row4= Gene.new(col11g[3], col12g[3], col13g[3])\n",
    "row5= Gene.new(col11g[4], col12g[4], col13g[4])\n",
    "\n"
   ]
  },
  {
   "cell_type": "code",
   "execution_count": 15,
   "metadata": {},
   "outputs": [
    {
     "data": {
      "text/plain": [
       ":Xi_Test"
      ]
     },
     "execution_count": 15,
     "metadata": {},
     "output_type": "execute_result"
    }
   ],
   "source": [
    "class Hybrid_Cross\n",
    "  attr_accessor :parent1\n",
    "  attr_accessor :parent2\n",
    "  attr_accessor :F2_wild\n",
    "  attr_accessor :F2_p1\n",
    "  attr_accessor :F2_p2\n",
    "  attr_accessor :F2_p1p2\n",
    "  \n",
    "  def initialize (\n",
    "    parent1 = \"000\",\n",
    "    parent2 = \"000\",\n",
    "    f2_wild = \"000\",\n",
    "    f2_p1 = \"000\",\n",
    "    f2_p2 = \"000\",\n",
    "    f2_p1p2 = \"000\")\n",
    "    \n",
    "    @parent1 = parent1\n",
    "    @parent2 = parent2\n",
    "    @F2_wild = f2_wild\n",
    "    @F2_p1 = f2_p1\n",
    "    @F2_p2 = f2_p2\n",
    "    @F2_p1p2 = f2_p1p2\n",
    "  end\n",
    "  \n",
    "  \n",
    "  \n",
    "  def Xi_Test(\n",
    "    f2_wild = \"000\",\n",
    "    f2_p1 = \"000\",\n",
    "    f2_p2 = \"000\",\n",
    "    f2_p1p2 = \"000\")\n",
    "    \n",
    "    observed_wild = @F2_wild.to_i\n",
    "    \n",
    "   # puts observed_wild\n",
    "    observed_p1 = @F2_p1.to_i\n",
    "    observed_p2 = @F2_p2.to_i\n",
    "    observed_p1p2 = @F2_p1p2.to_i\n",
    "    total_observed = observed_wild + observed_p1 + observed_p2 + observed_p1p2\n",
    "    \n",
    "    expected_wild = total_observed*9/16\n",
    "    expected_p1 = total_observed*3/16\n",
    "    expected_p2 = total_observed*3/16\n",
    "    expected_p1p2 = total_observed*1/16\n",
    "    #puts total_observed\n",
    "   # puts expected_wild\n",
    "    \n",
    "    chi_square_wild =( ((observed_wild - expected_wild)**2 )/ expected_wild).to_f\n",
    "   # puts chi_square_wild\n",
    "    chi_square_p1 = (((observed_p1 - expected_p1)**2)/expected_p1).to_f\n",
    "    chi_square_p2 = (((observed_p2 - expected_p2)**2)/(expected_p2)).to_f\n",
    "    chi_square_p1p2 = (((observed_p1p2 - expected_p1p2)**2)/(expected_p1p2)).to_f\n",
    "    chi_square_total = chi_square_wild + chi_square_p1 + chi_square_p2 + chi_square_p1p2\n",
    "    \n",
    "    #puts chi_square_total\n",
    "    \n",
    "    test_number = 7.8    \n",
    "    if chi_square_total > test_number\n",
    "      #@parent1 = @gene_name.Gene\n",
    "      puts \"Recording: #{@parent1} is genetically linked to #{parent2}\"\n",
    "    end\n",
    "\n",
    "  end\n",
    "end"
   ]
  },
  {
   "cell_type": "code",
   "execution_count": 16,
   "metadata": {},
   "outputs": [
    {
     "data": {
      "text/plain": [
       "#<Hybrid_Cross:0x0000000001808378 @parent1=\"B52\", @parent2=\"A334\", @F2_wild=\"75\", @F2_p1=\"22\", @F2_p2=\"30\", @F2_p1p2=\"7\">"
      ]
     },
     "execution_count": 16,
     "metadata": {},
     "output_type": "execute_result"
    }
   ],
   "source": [
    "# headers = []\n",
    " col11c = []\n",
    " col12c = []\n",
    " col13c = []\n",
    " col14c = []\n",
    " col15c = []\n",
    " col16c = []\n",
    "for i in 1..copy_seed_stock.length-1 do\n",
    "#    header = copy_seed_stock[i][0]\n",
    "  col1= cross_data[i][0]\n",
    "  col11c << col1\n",
    "  col2= cross_data[i][1]\n",
    "  col12c << col2\n",
    "  col3= cross_data[i][2]\n",
    "  col13c << col3\n",
    "  col4= cross_data[i][3]\n",
    "  col14c << col4\n",
    "  col5= cross_data[i][4]\n",
    "  col15c << col5\n",
    "  col6 = cross_data[i][5]\n",
    "  col16c << col6\n",
    "end\n",
    "\n",
    "\n",
    "row1= Hybrid_Cross.new(col11c[0], col12c[0], col13c[0], col14c[0], col15c[0], col16c[0])\n",
    "row2= Hybrid_Cross.new(col11c[1], col12c[1], col13c[1], col14c[1], col15c[1], col16c[1])\n",
    "row3= Hybrid_Cross.new(col11c[2], col12c[2], col13c[2], col14c[2], col15c[2], col16c[2])\n",
    "row4= Hybrid_Cross.new(col11c[3], col12c[3], col13c[3], col14c[3], col15c[3], col16c[3])\n",
    "row5= Hybrid_Cross.new(col11c[4], col12c[4], col13c[4], col14c[4], col15c[4], col16c[4])"
   ]
  },
  {
   "cell_type": "code",
   "execution_count": 17,
   "metadata": {},
   "outputs": [
    {
     "name": "stdout",
     "output_type": "stream",
     "text": [
      "\n",
      "\n",
      "\n",
      "Recording: A51 is genetically linked to B52\n",
      "\n",
      "\n"
     ]
    }
   ],
   "source": [
    "puts row1.Xi_Test\n",
    "puts row2.Xi_Test\n",
    "puts row3.Xi_Test\n",
    "puts row4.Xi_Test\n",
    "puts row5.Xi_Test"
   ]
  },
  {
   "cell_type": "code",
   "execution_count": null,
   "metadata": {},
   "outputs": [],
   "source": []
  }
 ],
 "metadata": {
  "kernelspec": {
   "display_name": "Ruby 2.6.3",
   "language": "ruby",
   "name": "ruby"
  },
  "language_info": {
   "file_extension": ".rb",
   "mimetype": "application/x-ruby",
   "name": "ruby",
   "version": "2.6.3"
  }
 },
 "nbformat": 4,
 "nbformat_minor": 2
}
